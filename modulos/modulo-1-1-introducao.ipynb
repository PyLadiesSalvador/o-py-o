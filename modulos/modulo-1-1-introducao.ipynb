{
  "cells": [
    {
      "cell_type": "markdown",
      "metadata": {
        "id": "8u-zLDIaXi89"
      },
      "source": [
        "<img src=\"https://github.com/dev-janainapires/o-py-o/blob/master/imagens/1.png?raw=1\">\n",
        "\n",
        "## Revisando o conteúdo da semana!"
      ]
    },
    {
      "cell_type": "markdown",
      "metadata": {
        "id": "OBtL7fo3Xi9J"
      },
      "source": [
        "1) Em uma instrução `print()`, o que acontece se você omitir um dos parênteses ou ambos?"
      ]
    },
    {
      "cell_type": "code",
      "execution_count": 2,
      "metadata": {
        "id": "Wd_7r_T9Xi9N",
        "outputId": "98a720f5-c5e4-443a-838e-bfa691688851",
        "colab": {
          "base_uri": "https://localhost:8080/"
        }
      },
      "outputs": [
        {
          "output_type": "stream",
          "name": "stdout",
          "text": [
            "Hello world!!!\n"
          ]
        }
      ],
      "source": [
        "print('Hello world!!!')"
      ]
    },
    {
      "cell_type": "code",
      "source": [
        "print('Olá mundo'"
      ],
      "metadata": {
        "id": "_GGAHmERXsdZ",
        "outputId": "cbfae819-4065-4cbc-f5a1-f0a399003420",
        "colab": {
          "base_uri": "https://localhost:8080/",
          "height": 133
        }
      },
      "execution_count": 3,
      "outputs": [
        {
          "output_type": "error",
          "ename": "SyntaxError",
          "evalue": "ignored",
          "traceback": [
            "\u001b[0;36m  File \u001b[0;32m\"<ipython-input-3-61af79566653>\"\u001b[0;36m, line \u001b[0;32m1\u001b[0m\n\u001b[0;31m    print('Olá mundo'\u001b[0m\n\u001b[0m                     ^\u001b[0m\n\u001b[0;31mSyntaxError\u001b[0m\u001b[0;31m:\u001b[0m unexpected EOF while parsing\n"
          ]
        }
      ]
    },
    {
      "cell_type": "markdown",
      "metadata": {
        "id": "xZ-xXjmLXi9Q"
      },
      "source": [
        "2) O que acontece se puser um sinal de mais antes de um número? E se escrever assim: `2++2`?"
      ]
    },
    {
      "cell_type": "code",
      "execution_count": 4,
      "metadata": {
        "id": "xLgJWpueXi9S",
        "outputId": "fc4ef534-1b7b-4e4d-8f72-d83088b7fdbe",
        "colab": {
          "base_uri": "https://localhost:8080/"
        }
      },
      "outputs": [
        {
          "output_type": "execute_result",
          "data": {
            "text/plain": [
              "4"
            ]
          },
          "metadata": {},
          "execution_count": 4
        }
      ],
      "source": [
        "2++2"
      ]
    },
    {
      "cell_type": "code",
      "source": [
        "2+2"
      ],
      "metadata": {
        "id": "RskPuadpYEct",
        "outputId": "c9108d66-3886-43ea-e1fe-08537d38f4dc",
        "colab": {
          "base_uri": "https://localhost:8080/"
        }
      },
      "execution_count": 5,
      "outputs": [
        {
          "output_type": "execute_result",
          "data": {
            "text/plain": [
              "4"
            ]
          },
          "metadata": {},
          "execution_count": 5
        }
      ]
    },
    {
      "cell_type": "code",
      "source": [
        "2+++2"
      ],
      "metadata": {
        "id": "yZpcXqPgYKTg",
        "outputId": "3d42fe9d-762f-4bf9-869d-3178c473cc1a",
        "colab": {
          "base_uri": "https://localhost:8080/"
        }
      },
      "execution_count": 6,
      "outputs": [
        {
          "output_type": "execute_result",
          "data": {
            "text/plain": [
              "4"
            ]
          },
          "metadata": {},
          "execution_count": 6
        }
      ]
    },
    {
      "cell_type": "markdown",
      "metadata": {
        "id": "Miw9ZN3FXi9T"
      },
      "source": [
        "3) O que acontece se você tentar usar 02 isso no Python?"
      ]
    },
    {
      "cell_type": "code",
      "execution_count": null,
      "metadata": {
        "id": "5oljgMNIXi9V"
      },
      "outputs": [],
      "source": []
    },
    {
      "cell_type": "markdown",
      "metadata": {
        "id": "sW3jFY-CXi9X"
      },
      "source": [
        "4) Quantos segundos há em 42 minutos e 42 segundos?"
      ]
    },
    {
      "cell_type": "code",
      "execution_count": null,
      "metadata": {
        "id": "PrKd0J-qXi9a"
      },
      "outputs": [],
      "source": []
    },
    {
      "cell_type": "markdown",
      "metadata": {
        "id": "DnVej5gMXi9c"
      },
      "source": [
        "5) Vimos que `n = 42` é funciona. E `42 = n`?"
      ]
    },
    {
      "cell_type": "code",
      "execution_count": 7,
      "metadata": {
        "id": "BB9KRrYJXi9e"
      },
      "outputs": [],
      "source": [
        "n = 42 "
      ]
    },
    {
      "cell_type": "code",
      "source": [
        "42 = n"
      ],
      "metadata": {
        "id": "m2a5eNc5Y2jl",
        "outputId": "9ceb87dc-adbd-4cc6-e5e5-f63dda250e54",
        "colab": {
          "base_uri": "https://localhost:8080/",
          "height": 133
        }
      },
      "execution_count": 8,
      "outputs": [
        {
          "output_type": "error",
          "ename": "SyntaxError",
          "evalue": "ignored",
          "traceback": [
            "\u001b[0;36m  File \u001b[0;32m\"<ipython-input-8-f0c37ed646fc>\"\u001b[0;36m, line \u001b[0;32m1\u001b[0m\n\u001b[0;31m    42 = n\u001b[0m\n\u001b[0m          ^\u001b[0m\n\u001b[0;31mSyntaxError\u001b[0m\u001b[0;31m:\u001b[0m can't assign to literal\n"
          ]
        }
      ]
    },
    {
      "cell_type": "markdown",
      "metadata": {
        "id": "ss06R4HwXi9f"
      },
      "source": [
        "6) Qual é o resultado da expressão `x = y = 1`? Você consegue explicar o que aconteceu aqui?"
      ]
    },
    {
      "cell_type": "code",
      "execution_count": 9,
      "metadata": {
        "id": "DdeemnSxXi9g"
      },
      "outputs": [],
      "source": [
        "Quando o valor de y é atribuido a x e o valor 1 é atribuído a y, significa que x terá o mesmo valor de y, ou seja, 1."
      ]
    },
    {
      "cell_type": "markdown",
      "metadata": {
        "id": "neoB8hgZXi9h"
      },
      "source": [
        "7) O que acontece se você puser um ponto e vírgula no fim de uma instrução no Python? E um ponto?"
      ]
    },
    {
      "cell_type": "code",
      "execution_count": 10,
      "metadata": {
        "id": "zp-Ip-qEXi9i",
        "outputId": "391078a3-fbd2-48d7-a727-eaf03e5b717d",
        "colab": {
          "base_uri": "https://localhost:8080/"
        }
      },
      "outputs": [
        {
          "output_type": "stream",
          "name": "stdout",
          "text": [
            "Olá mundo\n"
          ]
        }
      ],
      "source": [
        "print('Olá mundo');"
      ]
    },
    {
      "cell_type": "code",
      "source": [
        "print('Olá mundo')."
      ],
      "metadata": {
        "id": "e1Ve1eQ2ZijP",
        "outputId": "922c2c37-088a-45aa-91ae-c05fe9011eac",
        "colab": {
          "base_uri": "https://localhost:8080/",
          "height": 133
        }
      },
      "execution_count": 11,
      "outputs": [
        {
          "output_type": "error",
          "ename": "SyntaxError",
          "evalue": "ignored",
          "traceback": [
            "\u001b[0;36m  File \u001b[0;32m\"<ipython-input-11-7955cd6c9efa>\"\u001b[0;36m, line \u001b[0;32m1\u001b[0m\n\u001b[0;31m    print('Olá mundo').\u001b[0m\n\u001b[0m                       ^\u001b[0m\n\u001b[0;31mSyntaxError\u001b[0m\u001b[0;31m:\u001b[0m invalid syntax\n"
          ]
        }
      ]
    },
    {
      "cell_type": "markdown",
      "metadata": {
        "id": "QidZ2M14Xi9j"
      },
      "source": [
        "8) Em notação matemática é possível multiplicar x e y desta forma: xy. O que acontece se você tentar fazer o mesmo no Python?\n",
        "\n",
        "```python\n",
        "x = 2\n",
        "y = 8\n",
        "\n",
        "xy\n",
        "```"
      ]
    },
    {
      "cell_type": "code",
      "execution_count": 19,
      "metadata": {
        "id": "OddRpn9_Xi9k",
        "outputId": "c1a22c96-dfde-481b-fd16-75f71db40e5e",
        "colab": {
          "base_uri": "https://localhost:8080/",
          "height": 202
        }
      },
      "outputs": [
        {
          "output_type": "error",
          "ename": "NameError",
          "evalue": "ignored",
          "traceback": [
            "\u001b[0;31m---------------------------------------------------------------------------\u001b[0m",
            "\u001b[0;31mNameError\u001b[0m                                 Traceback (most recent call last)",
            "\u001b[0;32m<ipython-input-19-074e941fbf6a>\u001b[0m in \u001b[0;36m<module>\u001b[0;34m\u001b[0m\n\u001b[1;32m      2\u001b[0m \u001b[0my\u001b[0m \u001b[0;34m=\u001b[0m \u001b[0;36m8\u001b[0m\u001b[0;34m\u001b[0m\u001b[0;34m\u001b[0m\u001b[0m\n\u001b[1;32m      3\u001b[0m \u001b[0;34m\u001b[0m\u001b[0m\n\u001b[0;32m----> 4\u001b[0;31m \u001b[0mxy\u001b[0m\u001b[0;34m\u001b[0m\u001b[0;34m\u001b[0m\u001b[0m\n\u001b[0m",
            "\u001b[0;31mNameError\u001b[0m: name 'xy' is not defined"
          ]
        }
      ],
      "source": [
        "x = 2\n",
        "y = 8\n",
        "\n",
        "xy"
      ]
    },
    {
      "cell_type": "markdown",
      "metadata": {
        "id": "t5Z-pCy5Xi9l"
      },
      "source": [
        "9) O que significa a saída do código abaixo?\n",
        "\n",
        "```python\n",
        "nome = 'Grupo de estudos Ó Py Ó'\n",
        "type(nome)\n",
        "```"
      ]
    },
    {
      "cell_type": "code",
      "execution_count": 15,
      "metadata": {
        "id": "I-IDrkEtXi9n",
        "outputId": "cf944153-4ae2-4cf5-bf1c-67d5b963de98",
        "colab": {
          "base_uri": "https://localhost:8080/"
        }
      },
      "outputs": [
        {
          "output_type": "execute_result",
          "data": {
            "text/plain": [
              "str"
            ]
          },
          "metadata": {},
          "execution_count": 15
        }
      ],
      "source": [
        "nome = 'Grupo de estudos Ó Py Ó'\n",
        "type(nome)"
      ]
    },
    {
      "cell_type": "markdown",
      "metadata": {
        "id": "ByJ0sdyTXi9o"
      },
      "source": [
        "10) Repdoruza um erro de sintaxe"
      ]
    },
    {
      "cell_type": "code",
      "execution_count": 16,
      "metadata": {
        "id": "iEVix4b1Xi9q",
        "outputId": "22f2b841-c219-470b-cf39-d8b939ed4108",
        "colab": {
          "base_uri": "https://localhost:8080/",
          "height": 133
        }
      },
      "outputs": [
        {
          "output_type": "error",
          "ename": "SyntaxError",
          "evalue": "ignored",
          "traceback": [
            "\u001b[0;36m  File \u001b[0;32m\"<ipython-input-16-4ddae933a49c>\"\u001b[0;36m, line \u001b[0;32m1\u001b[0m\n\u001b[0;31m    print Olá mundo\u001b[0m\n\u001b[0m            ^\u001b[0m\n\u001b[0;31mSyntaxError\u001b[0m\u001b[0;31m:\u001b[0m Missing parentheses in call to 'print'. Did you mean print(Olá mundo)?\n"
          ]
        }
      ],
      "source": [
        "print Olá mundo"
      ]
    },
    {
      "cell_type": "markdown",
      "metadata": {
        "id": "8sDuOrktXi9r"
      },
      "source": [
        "11) Reproduza um erro de identação"
      ]
    },
    {
      "cell_type": "code",
      "execution_count": 18,
      "metadata": {
        "id": "B-8xDHGGXi9r"
      },
      "outputs": [],
      "source": []
    },
    {
      "cell_type": "markdown",
      "metadata": {
        "id": "M8QxY0giXi9s"
      },
      "source": [
        "---"
      ]
    },
    {
      "cell_type": "markdown",
      "metadata": {
        "id": "cABlNk-kXi9t"
      },
      "source": [
        "## Quais são as outras formas de praticar esses conceitos?\n",
        "\n",
        "<img src=\"https://media.giphy.com/media/2wS8Hh619rZvvf95op/giphy.gif\" align=\"left\">"
      ]
    },
    {
      "cell_type": "markdown",
      "metadata": {
        "id": "wn3KYCBCXi9t"
      },
      "source": [
        "<Adicionar atividade de sua preferência para aplicação dos conceitos>"
      ]
    }
  ],
  "metadata": {
    "kernelspec": {
      "display_name": "Python 3",
      "language": "python",
      "name": "python3"
    },
    "language_info": {
      "codemirror_mode": {
        "name": "ipython",
        "version": 3
      },
      "file_extension": ".py",
      "mimetype": "text/x-python",
      "name": "python",
      "nbconvert_exporter": "python",
      "pygments_lexer": "ipython3",
      "version": "3.8.5"
    },
    "colab": {
      "provenance": []
    }
  },
  "nbformat": 4,
  "nbformat_minor": 0
}