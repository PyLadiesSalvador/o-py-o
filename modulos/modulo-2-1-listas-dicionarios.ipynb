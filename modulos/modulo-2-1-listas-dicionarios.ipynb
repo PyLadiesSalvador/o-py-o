{
  "cells": [
    {
      "cell_type": "markdown",
      "metadata": {
        "id": "dIvg6lS76n4m"
      },
      "source": [
        "<img src=\"https://github.com/dev-janainapires/o-py-o/blob/master/imagens/5.png?raw=1\">\n",
        "\n",
        "## Revisando o conteúdo da semana!"
      ]
    },
    {
      "cell_type": "markdown",
      "metadata": {
        "id": "49Kn70aJ6n4z"
      },
      "source": [
        "1) Faça um programa que inicialize uma lista vazia e solicite a usuária 3 nomes de cidades, um por vez, cada vez que a usuária digitar um nome, o programa deve incluir este nome na lista de cidades."
      ]
    },
    {
      "cell_type": "code",
      "source": [
        "cidades = []\n",
        "\n",
        "for item in range(3):\n",
        "  cidade = input('informe o nome da cidade: ')\n",
        "  cidades.append(cidade)\n",
        "\n",
        "cidades"
      ],
      "metadata": {
        "id": "RoqH2QOZBr3D",
        "outputId": "a1794a8d-a25c-439a-a74c-1065b6d51067",
        "colab": {
          "base_uri": "https://localhost:8080/"
        }
      },
      "execution_count": null,
      "outputs": [
        {
          "name": "stdout",
          "output_type": "stream",
          "text": [
            "informe o nome da cidade: Salvador\n",
            "informe o nome da cidade: Rio de Janeiro\n",
            "informe o nome da cidade: Feira de Santana\n"
          ]
        },
        {
          "output_type": "execute_result",
          "data": {
            "text/plain": [
              "['Salvador', 'Rio de Janeiro', 'Feira de Santana']"
            ]
          },
          "metadata": {},
          "execution_count": 9
        }
      ]
    },
    {
      "cell_type": "code",
      "execution_count": null,
      "metadata": {
        "id": "NEiJSwpe6n41",
        "outputId": "cd055b87-819e-4d34-c83b-35f8c785b371",
        "colab": {
          "base_uri": "https://localhost:8080/"
        }
      },
      "outputs": [
        {
          "output_type": "stream",
          "name": "stdout",
          "text": [
            "valor a ser procurado: 9\n",
            "List contains 9: False\n"
          ]
        }
      ],
      "source": [
        "nums = [1, 2, 3, 4, 5, 6] \n",
        "\n",
        "n = int(input('valor a ser procurado: '))\n",
        "\n",
        "found = False\n",
        "for num in nums:\n",
        "  if n == num:\n",
        "      found = True\n",
        "      break\n",
        "\n",
        "print(f'List contains {n}: {found}')"
      ]
    },
    {
      "cell_type": "code",
      "source": [
        "n = int(input('valor a ser procurado: ')) #tirando a prova dos 9\n",
        "\n",
        "n in nums"
      ],
      "metadata": {
        "id": "zNsO0MrNA2W_",
        "outputId": "c5666890-9751-49c0-c173-0ec13a380ea5",
        "colab": {
          "base_uri": "https://localhost:8080/"
        }
      },
      "execution_count": null,
      "outputs": [
        {
          "name": "stdout",
          "output_type": "stream",
          "text": [
            "valor a ser procurado: 4\n"
          ]
        },
        {
          "output_type": "execute_result",
          "data": {
            "text/plain": [
              "True"
            ]
          },
          "metadata": {},
          "execution_count": 6
        }
      ]
    },
    {
      "cell_type": "markdown",
      "metadata": {
        "id": "MaysDp806n43"
      },
      "source": [
        "2) Faça um programa que inicialize uma lista com vários números diferentes, depois disso, solicite ao usuário um número, verifique se o número está ou não na lista e exiba uma mensagem notificando o usuário do resultado."
      ]
    },
    {
      "cell_type": "markdown",
      "metadata": {
        "id": "dC3lJmqf6n45"
      },
      "source": [
        "3) Escreva uma função chamada `has_duplicates` que receba uma lista e retorne **True** se houver algum elemento que apareça mais de uma vez. Ela não deve modificar a lista original."
      ]
    },
    {
      "cell_type": "code",
      "execution_count": 120,
      "metadata": {
        "id": "IPDinBNK6n48",
        "outputId": "db9f2852-8c1d-4b3f-f501-253a8e1644f3",
        "colab": {
          "base_uri": "https://localhost:8080/"
        }
      },
      "outputs": [
        {
          "name": "stdout",
          "output_type": "stream",
          "text": [
            "Insira o item desejado: casa\n",
            "Insira o item desejado: carro\n"
          ]
        }
      ],
      "source": [
        "def has_duplicates(listas):\n",
        "  msg = 'Item duplicado!'\n",
        "  \n",
        "  item = listas\n",
        "\n",
        "  input('Insira o item desejado: ')\n",
        "\n",
        "  for item in listas:\n",
        "    if item != listas:\n",
        "      input('Insira o item desejado: ')\n",
        "      listas.append(listas)\n",
        "    else:\n",
        "     print(msg)\n",
        "     \n",
        "    break\n",
        "\n",
        "has_duplicates([20, 30, 20])\n",
        "\n",
        "#por que está parando em 2 elementos?"
      ]
    },
    {
      "cell_type": "markdown",
      "metadata": {
        "id": "vB0btgOM6n4-"
      },
      "source": [
        "4 - Escreva um programa para armazenar uma agenda de telefones em um dicionário. Cada pessoa pode ter um ou mais telefones e a chave do dicionário é o nome da pessoa. Seu programa deve ter as seguintes funções:\n",
        "\n",
        "- incluir_novo_nome – essa função acrescenta um novo nome na agenda, com um ou mais telefones. Ela deve receber como argumentos o nome e os telefones. ­\n",
        "- incluir_telefone – essa função acrescenta um telefone em um nome existente na agenda. Caso o nome não exista na agenda, você deve perguntar se a pessoa deseja incluí-­lo. Caso a resposta seja afirmativa, use a função anterior para incluir o novo nome. \n",
        "- excluir_telefone – essa função exclui um telefone de uma pessoa que já está na agenda. Se a pessoa tiver apenas um telefone, ela deve ser excluída da agenda. ­\n",
        "- excluir_nome – essa função exclui uma pessoa da agenda. ­\n",
        "- consultar_telefone – essa função retorna os telefones de uma pessoa na agenda."
      ]
    },
    {
      "cell_type": "code",
      "execution_count": null,
      "metadata": {
        "id": "FJtLIgem6n5B"
      },
      "outputs": [],
      "source": []
    },
    {
      "cell_type": "markdown",
      "metadata": {
        "id": "t1UTRa2Z6n5D"
      },
      "source": [
        "---\n",
        "\n",
        "## Quais são as outras formas de praticar esses conceitos?\n",
        "\n",
        "<img src=\"https://media.giphy.com/media/0AA2LiChVmvxt8v1HB/giphy.gif\" align=\"left\">"
      ]
    },
    {
      "cell_type": "markdown",
      "metadata": {
        "id": "-spo_UDR6n5E"
      },
      "source": [
        "<Adicionar atividade de sua preferência para aplicação dos conceitos>"
      ]
    },
    {
      "cell_type": "code",
      "source": [
        "num = list(range(1, 10))\n",
        "print(num)\n"
      ],
      "metadata": {
        "id": "FKblkAwYFYGg",
        "outputId": "a7390176-8c75-4af1-f85d-d85bdb860519",
        "colab": {
          "base_uri": "https://localhost:8080/"
        }
      },
      "execution_count": null,
      "outputs": [
        {
          "output_type": "stream",
          "name": "stdout",
          "text": [
            "[1, 2, 3, 4, 5, 6, 7, 8, 9]\n"
          ]
        }
      ]
    },
    {
      "cell_type": "code",
      "source": [],
      "metadata": {
        "id": "QM3c3JHEDvHX",
        "outputId": "6a5995e7-4743-4c5e-e9c2-84987c11ad9d",
        "colab": {
          "base_uri": "https://localhost:8080/"
        }
      },
      "execution_count": null,
      "outputs": [
        {
          "output_type": "execute_result",
          "data": {
            "text/plain": [
              "range(0, 3)"
            ]
          },
          "metadata": {},
          "execution_count": 8
        }
      ]
    },
    {
      "cell_type": "code",
      "execution_count": null,
      "metadata": {
        "id": "KXF4tLlw6n44",
        "outputId": "f2dea300-d591-42ac-8516-bc124fcedcb4",
        "colab": {
          "base_uri": "https://localhost:8080/"
        }
      },
      "outputs": [
        {
          "output_type": "stream",
          "name": "stdout",
          "text": [
            "Informe a chave de busca: 60\n",
            "Chave de busca encontrada!\n"
          ]
        }
      ],
      "source": [
        "lista = list(range(0, 250, 30))\n",
        "busca = int(input('Informe a chave de busca: '))\n",
        "\n",
        "for item in lista:\n",
        "  if busca == item:\n",
        "    print('Chave de busca encontrada!')\n",
        "    break\n"
      ]
    },
    {
      "cell_type": "code",
      "source": [
        "busca = int(input('Informe a chave de busca: '))\n",
        "busca in lista"
      ],
      "metadata": {
        "id": "oUxLthJgKWPt",
        "outputId": "f14810fb-93bd-46f0-8882-bb2d47193a93",
        "colab": {
          "base_uri": "https://localhost:8080/"
        }
      },
      "execution_count": null,
      "outputs": [
        {
          "name": "stdout",
          "output_type": "stream",
          "text": [
            "Informe a chave de busca: 90\n"
          ]
        },
        {
          "output_type": "execute_result",
          "data": {
            "text/plain": [
              "True"
            ]
          },
          "metadata": {},
          "execution_count": 20
        }
      ]
    }
  ],
  "metadata": {
    "kernelspec": {
      "display_name": "Python 3",
      "language": "python",
      "name": "python3"
    },
    "language_info": {
      "codemirror_mode": {
        "name": "ipython",
        "version": 3
      },
      "file_extension": ".py",
      "mimetype": "text/x-python",
      "name": "python",
      "nbconvert_exporter": "python",
      "pygments_lexer": "ipython3",
      "version": "3.8.5"
    },
    "colab": {
      "provenance": []
    }
  },
  "nbformat": 4,
  "nbformat_minor": 0
}