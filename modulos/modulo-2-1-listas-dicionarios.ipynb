{
  "cells": [
    {
      "cell_type": "markdown",
      "metadata": {
        "id": "dIvg6lS76n4m"
      },
      "source": [
        "<img src=\"https://github.com/dev-janainapires/o-py-o/blob/master/imagens/5.png?raw=1\">\n",
        "\n",
        "## Revisando o conteúdo da semana!"
      ]
    },
    {
      "cell_type": "markdown",
      "metadata": {
        "id": "49Kn70aJ6n4z"
      },
      "source": [
        "1) Faça um programa que inicialize uma lista vazia e solicite a usuária 3 nomes de cidades, um por vez, cada vez que a usuária digitar um nome, o programa deve incluir este nome na lista de cidades."
      ]
    },
    {
      "cell_type": "code",
      "source": [
        "cidades = []\n",
        "\n",
        "for item in range(3):\n",
        "  cidade = input('informe o nome da cidade: ')\n",
        "  cidades.append(cidade)\n",
        "\n",
        "cidades"
      ],
      "metadata": {
        "id": "RoqH2QOZBr3D",
        "outputId": "a1794a8d-a25c-439a-a74c-1065b6d51067",
        "colab": {
          "base_uri": "https://localhost:8080/"
        }
      },
      "execution_count": null,
      "outputs": [
        {
          "name": "stdout",
          "output_type": "stream",
          "text": [
            "informe o nome da cidade: Salvador\n",
            "informe o nome da cidade: Rio de Janeiro\n",
            "informe o nome da cidade: Feira de Santana\n"
          ]
        },
        {
          "output_type": "execute_result",
          "data": {
            "text/plain": [
              "['Salvador', 'Rio de Janeiro', 'Feira de Santana']"
            ]
          },
          "metadata": {},
          "execution_count": 9
        }
      ]
    },
    {
      "cell_type": "code",
      "execution_count": null,
      "metadata": {
        "id": "NEiJSwpe6n41",
        "outputId": "cd055b87-819e-4d34-c83b-35f8c785b371",
        "colab": {
          "base_uri": "https://localhost:8080/"
        }
      },
      "outputs": [
        {
          "output_type": "stream",
          "name": "stdout",
          "text": [
            "valor a ser procurado: 9\n",
            "List contains 9: False\n"
          ]
        }
      ],
      "source": [
        "nums = [1, 2, 3, 4, 5, 6] \n",
        "\n",
        "n = int(input('valor a ser procurado: '))\n",
        "\n",
        "found = False\n",
        "for num in nums:\n",
        "  if n == num:\n",
        "      found = True\n",
        "      break\n",
        "\n",
        "print(f'List contains {n}: {found}')"
      ]
    },
    {
      "cell_type": "code",
      "source": [
        "n = int(input('valor a ser procurado: ')) #tirando a prova dos 9\n",
        "\n",
        "n in nums"
      ],
      "metadata": {
        "id": "zNsO0MrNA2W_",
        "outputId": "c5666890-9751-49c0-c173-0ec13a380ea5",
        "colab": {
          "base_uri": "https://localhost:8080/"
        }
      },
      "execution_count": null,
      "outputs": [
        {
          "name": "stdout",
          "output_type": "stream",
          "text": [
            "valor a ser procurado: 4\n"
          ]
        },
        {
          "output_type": "execute_result",
          "data": {
            "text/plain": [
              "True"
            ]
          },
          "metadata": {},
          "execution_count": 6
        }
      ]
    },
    {
      "cell_type": "markdown",
      "metadata": {
        "id": "MaysDp806n43"
      },
      "source": [
        "2) Faça um programa que inicialize uma lista com vários números diferentes, depois disso, solicite ao usuário um número, verifique se o número está ou não na lista e exiba uma mensagem notificando o usuário do resultado."
      ]
    },
    {
      "cell_type": "markdown",
      "metadata": {
        "id": "dC3lJmqf6n45"
      },
      "source": [
        "3) Escreva uma função chamada `has_duplicates` que receba uma lista e retorne **True** se houver algum elemento que apareça mais de uma vez. Ela não deve modificar a lista original."
      ]
    },
    {
      "cell_type": "code",
      "source": [
        "def has_duplicates(lista):\n",
        "  item in lista\n",
        "\n",
        "\n",
        "msg = 'Item duplicado!'\n",
        "lista = []\n",
        "\n",
        "\n",
        "while(True):\n",
        "  item = input('insira o item desejado: ')\n",
        "  if item in lista:\n",
        "    print(msg)\n",
        "    break\n",
        "  else:\n",
        "    input('insira o item desejado: ')\n",
        "    lista.append(item)\n",
        "\n",
        "\n",
        "#função corrigida e testada: agora sim, ficou do jeito que eu queria!!! <3 <3 <3\n"
      ],
      "metadata": {
        "id": "xSDOtt5Z0U6f",
        "outputId": "1b3006ac-c054-4f76-c438-e689da5ef5cb",
        "colab": {
          "base_uri": "https://localhost:8080/"
        }
      },
      "execution_count": 43,
      "outputs": [
        {
          "output_type": "stream",
          "name": "stdout",
          "text": [
            "insira o item desejado: casa\n",
            "insira o item desejado: carro\n",
            "insira o item desejado: porta\n",
            "insira o item desejado: chave\n",
            "insira o item desejado: casa\n",
            "Item duplicado!\n"
          ]
        }
      ]
    },
    {
      "cell_type": "code",
      "execution_count": null,
      "metadata": {
        "id": "IPDinBNK6n48",
        "outputId": "c8d16446-d3b0-4209-9105-bb5d4fb06aef",
        "colab": {
          "base_uri": "https://localhost:8080/"
        }
      },
      "outputs": [
        {
          "output_type": "stream",
          "name": "stdout",
          "text": [
            "Insira o item desejado: casa\n",
            "Insira o item desejado: carro\n",
            "Insira o item desejado: porta\n",
            "Insira o item desejado: casa\n",
            "Insira o item desejado: 0\n",
            "Item duplicado!\n"
          ]
        }
      ],
      "source": [
        "def has_duplicates(lista):\n",
        "  msg = 'Item não duplicado!'\n",
        "  \n",
        "  for item in lista:\n",
        "    if lista.count(item) > 1:\n",
        "      msg = 'Item duplicado!'\n",
        "      break\n",
        "\n",
        "  print(msg)\n",
        "\n",
        "lista = []\n",
        "while(True):\n",
        "  item = input('Insira o item desejado: ')\n",
        "  lista.append(item)\n",
        "  if item == '0':\n",
        "    break\n",
        "\n",
        "has_duplicates(lista)\n",
        "\n",
        "#exercício corrigido\n",
        "#verificar como interromper o input assim que o item duplicado for digitado"
      ]
    },
    {
      "cell_type": "code",
      "source": [
        "def has_duplicates(listas):\n",
        "  msg = 'Item duplicado!'\n",
        "  \n",
        "  item = listas\n",
        "\n",
        "  input('Insira o item desejado: ')\n",
        "\n",
        "  for item in listas:\n",
        "    if item != listas:\n",
        "      input('Insira o item desejado: ')\n",
        "      listas.append(listas)\n",
        "    else:\n",
        "     print(msg)\n",
        "     \n",
        "    break\n",
        "\n",
        "has_duplicates([20, 30, 20])\n",
        "\n",
        "#comparação com o exercício corrigido"
      ],
      "metadata": {
        "id": "ieJTycSL7rIb"
      },
      "execution_count": null,
      "outputs": []
    },
    {
      "cell_type": "markdown",
      "metadata": {
        "id": "vB0btgOM6n4-"
      },
      "source": [
        "4 - Escreva um programa para armazenar uma agenda de telefones em um dicionário. Cada pessoa pode ter um ou mais telefones e a chave do dicionário é o nome da pessoa. Seu programa deve ter as seguintes funções:\n",
        "\n",
        "- incluir_novo_nome – essa função acrescenta um novo nome na agenda, com um ou mais telefones. Ela deve receber como argumentos o nome e os telefones. ­\n",
        "- incluir_telefone – essa função acrescenta um telefone em um nome existente na agenda. Caso o nome não exista na agenda, você deve perguntar se a pessoa deseja incluí-­lo. Caso a resposta seja afirmativa, use a função anterior para incluir o novo nome. \n",
        "- excluir_telefone – essa função exclui um telefone de uma pessoa que já está na agenda. Se a pessoa tiver apenas um telefone, ela deve ser excluída da agenda. ­\n",
        "- excluir_nome – essa função exclui uma pessoa da agenda. ­\n",
        "- consultar_telefone – essa função retorna os telefones de uma pessoa na agenda."
      ]
    },
    {
      "cell_type": "code",
      "execution_count": null,
      "metadata": {
        "id": "FJtLIgem6n5B",
        "colab": {
          "base_uri": "https://localhost:8080/"
        },
        "outputId": "7e0ceccc-5b44-48de-921e-32ba2586583e"
      },
      "outputs": [
        {
          "name": "stdout",
          "output_type": "stream",
          "text": [
            "\n",
            "******************* Minha Agenda ******************\n",
            "Opções disponíveis:\n",
            "\t1) Adicionar novo contato\n",
            "\t2) Adicionar telefone a um contato existente\n",
            "\t3) Excluir telefone de um contato\n",
            "\t4) Excluir o contato\n",
            "\t5) Consultar telefones de um contato\n",
            "\tInforme 0 para sair!\n",
            "\n",
            "Qual é a opção desejada? 1\n",
            "\n",
            "> Cadastrando novo contato:\n",
            "Nome: Janaina Pires\n",
            "\n",
            "Informe um telefone por vez. Para sair da adição de telefone digite 0:\n",
            "Telefone: 555-4698\n",
            "Telefone: 3309-4790\n",
            "Telefone: 0\n",
            "Contato cadastrado com sucesso!\n",
            "\n",
            "******************* Minha Agenda ******************\n",
            "Opções disponíveis:\n",
            "\t1) Adicionar novo contato\n",
            "\t2) Adicionar telefone a um contato existente\n",
            "\t3) Excluir telefone de um contato\n",
            "\t4) Excluir o contato\n",
            "\t5) Consultar telefones de um contato\n",
            "\tInforme 0 para sair!\n",
            "\n",
            "Qual é a opção desejada? 0\n"
          ]
        }
      ],
      "source": [
        "agenda = {}\n",
        "\n",
        "# função da opção 1\n",
        "def adicionar_contato():\n",
        "  telefones = []\n",
        "  print('\\n> Cadastrando novo contato:')\n",
        "  nome = input('Nome: ')\n",
        "  print('\\nInforme um telefone por vez. Para sair da adição de telefone digite 0:')\n",
        "  while(True):\n",
        "    telefone = input('Telefone: ')\n",
        "    if telefone == '0':\n",
        "      break\n",
        "    telefones.append(telefone)\n",
        "\n",
        "  agenda[nome] = telefones\n",
        "  print('Contato cadastrado com sucesso!')\n",
        "\n",
        "# função da opção 2\n",
        "def adicionar_telefone():\n",
        "  print('\\n> Adicionando telefone a um contato: ')\n",
        "  nome = input('Informe o nome: ')\n",
        "  if agenda.get(nome) is None:\n",
        "    print('\\n>Esse contato não está cadastrado. Gostaria de adicionar?')\n",
        "    resposta = input('Informe Sim ou Não: ')\n",
        "    if resposta == 'Sim':\n",
        "      adicionar_contato()\n",
        "      return\n",
        "  \n",
        "  telefones = agenda.get(nome)\n",
        "  telefone = input('Informe novo telefone: ')\n",
        "  telefones.append(telefone)\n",
        "  agenda[nome] = telefones\n",
        "  print(f'\\nTelefone adicionado com sucesso! A lista atualizada de telefones de {nome} é: \\n{agenda[nome]}')\n",
        "\n",
        "# função da opção 3\n",
        "def deletar_telefone():\n",
        "  print('\\n> Deletando telefone de um contato: ')\n",
        "  nome = input('Informe o nome: ')\n",
        "  if agenda.get(nome) is None:\n",
        "    print('Esse contato não está cadastrado!')\n",
        "    return\n",
        "  \n",
        "  telefones = agenda.get(nome)\n",
        "  print(f'\\n{nome} possui os seguintes telefones: {agenda[nome]}')\n",
        "  telefone = input('Qual telefone deseja deletar? ')\n",
        "  telefones.remove(telefone)\n",
        "  agenda[nome] = telefones\n",
        "  print(f'\\nTelefone deletado com sucesso! A lista atualizada de telefones de {nome} é: \\n{agenda[nome]}')\n",
        "\n",
        "# função da opção 4\n",
        "def deletar_contato():\n",
        "  print('\\n> Deletando contato: ')\n",
        "  nome = input('Informe o nome: ')\n",
        "  agenda.pop(nome)\n",
        "  print(f'\\nContato deletado com sucesso! A agenda atualuzada é: \\n{agenda.keys()}')\n",
        "\n",
        "# função da opção 5\n",
        "def consultar_telefone():\n",
        "  print('\\n> Exibindo informações do contato: ')\n",
        "  nome = input('Informe o nome: ')\n",
        "  print(f'\\n{nome} possui os seguintes telefones: {agenda[nome]}')\n",
        "while(True):\n",
        "  print('\\n******************* Minha Agenda ******************')\n",
        "  print('Opções disponíveis:')\n",
        "  print('\\t1) Adicionar novo contato')\n",
        "  print('\\t2) Adicionar telefone a um contato existente')\n",
        "  print('\\t3) Excluir telefone de um contato')\n",
        "  print('\\t4) Excluir o contato')\n",
        "  print('\\t5) Consultar telefones de um contato')\n",
        "  print('\\tInforme 0 para sair!')\n",
        "\n",
        "  opcao = int(input('\\nQual é a opção desejada? '))\n",
        "\n",
        "  if opcao == 0:\n",
        "    break\n",
        "  elif opcao == 1:\n",
        "    adicionar_contato()\n",
        "  elif opcao == 2:\n",
        "    adicionar_telefone()\n",
        "  elif opcao == 3:\n",
        "    deletar_telefone()\n",
        "  elif opcao == 4:\n",
        "    deletar_contato()\n",
        "  elif opcao == 5:\n",
        "    consultar_telefone()\n",
        "  else:\n",
        "    print('opção inválida!')\n",
        "\n",
        "#fazer revisão deste exercício"
      ]
    },
    {
      "cell_type": "markdown",
      "metadata": {
        "id": "t1UTRa2Z6n5D"
      },
      "source": [
        "---\n",
        "\n",
        "## Quais são as outras formas de praticar esses conceitos?\n",
        "\n",
        "<img src=\"https://media.giphy.com/media/0AA2LiChVmvxt8v1HB/giphy.gif\" align=\"left\">"
      ]
    },
    {
      "cell_type": "markdown",
      "metadata": {
        "id": "-spo_UDR6n5E"
      },
      "source": [
        "<Adicionar atividade de sua preferência para aplicação dos conceitos>"
      ]
    },
    {
      "cell_type": "code",
      "source": [
        "num = list(range(1, 10))\n",
        "print(num)\n"
      ],
      "metadata": {
        "id": "FKblkAwYFYGg",
        "outputId": "a7390176-8c75-4af1-f85d-d85bdb860519",
        "colab": {
          "base_uri": "https://localhost:8080/"
        }
      },
      "execution_count": null,
      "outputs": [
        {
          "output_type": "stream",
          "name": "stdout",
          "text": [
            "[1, 2, 3, 4, 5, 6, 7, 8, 9]\n"
          ]
        }
      ]
    },
    {
      "cell_type": "code",
      "source": [],
      "metadata": {
        "id": "QM3c3JHEDvHX",
        "outputId": "6a5995e7-4743-4c5e-e9c2-84987c11ad9d",
        "colab": {
          "base_uri": "https://localhost:8080/"
        }
      },
      "execution_count": null,
      "outputs": [
        {
          "output_type": "execute_result",
          "data": {
            "text/plain": [
              "range(0, 3)"
            ]
          },
          "metadata": {},
          "execution_count": 8
        }
      ]
    },
    {
      "cell_type": "code",
      "execution_count": null,
      "metadata": {
        "id": "KXF4tLlw6n44",
        "outputId": "f2dea300-d591-42ac-8516-bc124fcedcb4",
        "colab": {
          "base_uri": "https://localhost:8080/"
        }
      },
      "outputs": [
        {
          "output_type": "stream",
          "name": "stdout",
          "text": [
            "Informe a chave de busca: 60\n",
            "Chave de busca encontrada!\n"
          ]
        }
      ],
      "source": [
        "lista = list(range(0, 250, 30))\n",
        "busca = int(input('Informe a chave de busca: '))\n",
        "\n",
        "for item in lista:\n",
        "  if busca == item:\n",
        "    print('Chave de busca encontrada!')\n",
        "    break\n"
      ]
    },
    {
      "cell_type": "code",
      "source": [
        "busca = int(input('Informe a chave de busca: '))\n",
        "busca in lista"
      ],
      "metadata": {
        "id": "oUxLthJgKWPt",
        "outputId": "f14810fb-93bd-46f0-8882-bb2d47193a93",
        "colab": {
          "base_uri": "https://localhost:8080/"
        }
      },
      "execution_count": null,
      "outputs": [
        {
          "name": "stdout",
          "output_type": "stream",
          "text": [
            "Informe a chave de busca: 90\n"
          ]
        },
        {
          "output_type": "execute_result",
          "data": {
            "text/plain": [
              "True"
            ]
          },
          "metadata": {},
          "execution_count": 20
        }
      ]
    },
    {
      "cell_type": "code",
      "source": [
        "a = 'banana'\n",
        "b = 'banana'\n",
        "\n",
        "a is b"
      ],
      "metadata": {
        "colab": {
          "base_uri": "https://localhost:8080/"
        },
        "id": "oNtR569CumN_",
        "outputId": "f7724cf2-8bed-4886-cf64-029d4255a1ce"
      },
      "execution_count": null,
      "outputs": [
        {
          "output_type": "execute_result",
          "data": {
            "text/plain": [
              "True"
            ]
          },
          "metadata": {},
          "execution_count": 1
        }
      ]
    },
    {
      "cell_type": "code",
      "source": [
        "lista1 = [1, 2, 3, 4]\n",
        "lista2 = [1, 2, 3, 4]\n",
        "\n",
        "lista1 is lista2"
      ],
      "metadata": {
        "colab": {
          "base_uri": "https://localhost:8080/"
        },
        "id": "nj1WSYIIu4Xu",
        "outputId": "9cbb57f7-9a0f-4a9e-e38c-90abdb7acb48"
      },
      "execution_count": null,
      "outputs": [
        {
          "output_type": "execute_result",
          "data": {
            "text/plain": [
              "False"
            ]
          },
          "metadata": {},
          "execution_count": 2
        }
      ]
    },
    {
      "cell_type": "code",
      "source": [
        "a = 'casa', 'carro', 'número', 'porta'\n",
        "b = 'casa', 'carro', 'número', 'porta'\n",
        "\n",
        "a is b"
      ],
      "metadata": {
        "colab": {
          "base_uri": "https://localhost:8080/"
        },
        "id": "E4d-6fljvGIu",
        "outputId": "2a9e916f-d886-4db7-c643-81b6438fc747"
      },
      "execution_count": null,
      "outputs": [
        {
          "output_type": "execute_result",
          "data": {
            "text/plain": [
              "False"
            ]
          },
          "metadata": {},
          "execution_count": 9
        }
      ]
    }
  ],
  "metadata": {
    "kernelspec": {
      "display_name": "Python 3",
      "language": "python",
      "name": "python3"
    },
    "language_info": {
      "codemirror_mode": {
        "name": "ipython",
        "version": 3
      },
      "file_extension": ".py",
      "mimetype": "text/x-python",
      "name": "python",
      "nbconvert_exporter": "python",
      "pygments_lexer": "ipython3",
      "version": "3.8.5"
    },
    "colab": {
      "provenance": []
    }
  },
  "nbformat": 4,
  "nbformat_minor": 0
}